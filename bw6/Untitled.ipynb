{
 "cells": [
  {
   "cell_type": "code",
   "execution_count": 1,
   "id": "272ae717-1f20-49d9-96c6-bd332c07f124",
   "metadata": {},
   "outputs": [
    {
     "name": "stdout",
     "output_type": "stream",
     "text": [
      "*** SỬA THÔNG TIN mặt hàng ***\n",
      "Nhập ID cần sửa\n"
     ]
    },
    {
     "name": "stdin",
     "output_type": "stream",
     "text": [
      " 12\n"
     ]
    },
    {
     "name": "stdout",
     "output_type": "stream",
     "text": [
      "Không tìm thấy mặt hàng  12\n",
      "{'FO': {'name': 'orange breadcrumb', 'packing': 25}, 'FY': {'name': 'yellow breadcrumb', 'packing': 12}, 'FW': {'name': 'white breadcrumb', 'packing': 10}}\n"
     ]
    }
   ],
   "source": [
    "danhsach = {\n",
    "     'FO': {'name': 'orange breadcrumb', 'packing': 25},\n",
    "     'FY': {'name': 'yellow breadcrumb', 'packing': 12},\n",
    "     'FW': {'name': 'white breadcrumb', 'packing': 10}\n",
    "}\n",
    "\n",
    "def info_ID(danhsach, ID):\n",
    "    if ID in danhsach:\n",
    "        print(danhsach[ID])\n",
    "        \n",
    "\n",
    "def find_ID(id):\n",
    "    \"\"\"Hàm tìm một ID\"\"\"\n",
    "    for i in danhsach:\n",
    "        if i == id:\n",
    "            return [i]\n",
    "    return False\n",
    "\n",
    "find_ID(\"FJ\")\n",
    "def add_ID(danhsach, ID, newname ='NN', packing = 25):\n",
    "    print(\"*** THÊM tên hàng mới ***\")\n",
    " \n",
    "    infor = {\"ID\":{'name':\"\",'packing': \"\"}}\n",
    " \n",
    "    # Nhập ID, có kiểm tra trùng ID thì nhập lại\n",
    "    print(\"Nhập ID :\")\n",
    "    ID = input()\n",
    " \n",
    "    while True:\n",
    "        ID_new = find_ID(ID)\n",
    "        if ID_new != False:\n",
    "            print(\"ID này đã tồn tại, vui lòng nhập lại:\")\n",
    "            id = input()\n",
    "        else:\n",
    "            break\n",
    " \n",
    "    \n",
    " \n",
    "    # Nhập tên\n",
    "    infor['ID'] = ID\n",
    "    print(\"Nhập tên hàng:\")\n",
    "    infor['name'] = input()\n",
    " \n",
    "    # Nhập packing\n",
    "    print(\"Nhập packing:\")\n",
    "    infor['packing'] = int(input())\n",
    "    \n",
    "    # Lưu vào danh sách cũ\n",
    "    danhsach.update(infor)\n",
    "    print(danhsach)\n",
    " \n",
    "def delete_ID(danhsach,ID):\n",
    "    \"\"\"Hàm xóa tên hàng\"\"\"\n",
    "    print(\"*** XÓA tên hàng ***\")\n",
    "    print(\"Nhập ID cần xóa:\")\n",
    "    id = input()\n",
    " \n",
    "    ID_del = find_ID(id)\n",
    " \n",
    "    if ID_del != False:\n",
    "        danhsach = dachsach.pop(ID_del)\n",
    "        print(danhsach)\n",
    "        print(\"Xóa sinh viên thành công\")\n",
    "    else :\n",
    "        print(\"Không tìm thấy sinh viên cần xóa\")\n",
    "        \n",
    "def show_ID(danhsach,ID):\n",
    "    \"\"\"Hàm hiển thị danh sách \"\"\"\n",
    "    print(\"*** DANH SÁCH mặt hàng hiện tại ***\")\n",
    "    for i in danhsach:\n",
    "        print(danhsach[i])\n",
    " \n",
    "def edit_ID(danhsach):\n",
    "    \"\"\"Hàm sửa thông tin\"\"\"\n",
    "    print(\"*** SỬA THÔNG TIN mặt hàng ***\")\n",
    "    print(\"Nhập ID cần sửa\")\n",
    "    id = input()\n",
    "    ID_fit = find_ID(id)\n",
    "    if ID_fit == False:\n",
    "        print(\"Không tìm thấy mặt hàng \", id)\n",
    "    else:\n",
    "        print(\"Nhập tên ID\")\n",
    "        name = input()\n",
    "        danhsach[id][\"name\"] = name\n",
    "        packing = int(input())\n",
    "        danhsach[id][\"packing\"] = packing\n",
    "        \n",
    "    print(danhsach)\n",
    "\n",
    "edit_ID(danhsach)"
   ]
  }
 ],
 "metadata": {
  "kernelspec": {
   "display_name": "Python 3 (ipykernel)",
   "language": "python",
   "name": "python3"
  },
  "language_info": {
   "codemirror_mode": {
    "name": "ipython",
    "version": 3
   },
   "file_extension": ".py",
   "mimetype": "text/x-python",
   "name": "python",
   "nbconvert_exporter": "python",
   "pygments_lexer": "ipython3",
   "version": "3.11.4"
  }
 },
 "nbformat": 4,
 "nbformat_minor": 5
}
