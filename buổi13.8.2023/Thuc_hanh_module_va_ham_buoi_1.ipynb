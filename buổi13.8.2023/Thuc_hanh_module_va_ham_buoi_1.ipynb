{
 "cells": [
  {
   "cell_type": "markdown",
   "id": "a2a38651",
   "metadata": {},
   "source": [
    "## Bài 1:\n",
    "Viết hàm my_info() nhận vào 2 tham số `name` và `course`, sau đó in ra thông tin tương ứng. Ví dụ: \n",
    "```\n",
    "my_info('Long', 'Python')\n",
    "\n",
    "Output: \n",
    "My name is Long.\n",
    "I'm studying Python.\n",
    "```"
   ]
  },
  {
   "cell_type": "code",
   "execution_count": 4,
   "id": "392f869d",
   "metadata": {},
   "outputs": [
    {
     "name": "stdout",
     "output_type": "stream",
     "text": [
      "My name is,Long\n",
      "I'm studying,Python\n"
     ]
    }
   ],
   "source": [
    "def my_info(name, course =\"python\"):\n",
    "    print(f'My name is,{name}')# code below this line\n",
    "    pass\n",
    "    # code above this line\n",
    "    print(f\"I'm studying,{course}\")\n",
    "my_info('Long', 'Python')"
   ]
  },
  {
   "cell_type": "code",
   "execution_count": null,
   "id": "950c4372-8d55-4c31-9319-07c1218fdbe6",
   "metadata": {},
   "outputs": [],
   "source": []
  },
  {
   "cell_type": "code",
   "execution_count": null,
   "id": "a917b2f0-3f3a-41e2-9ff6-12a94bf03da3",
   "metadata": {},
   "outputs": [],
   "source": []
  },
  {
   "cell_type": "markdown",
   "id": "7390cb06",
   "metadata": {},
   "source": [
    "## Bài 2:\n",
    "Viết hàm sum_even() nhận vào một số `n` và in ra tổng các số chẵn từ 2 đến n.\n",
    "Ví dụ:\n",
    "```\n",
    "sum_even(10)\n",
    "\n",
    "Output:\n",
    "30\n",
    "```"
   ]
  },
  {
   "cell_type": "code",
   "execution_count": 7,
   "id": "df52dd4b",
   "metadata": {},
   "outputs": [
    {
     "data": {
      "text/plain": [
       "30"
      ]
     },
     "execution_count": 7,
     "metadata": {},
     "output_type": "execute_result"
    }
   ],
   "source": [
    "def sum_even(n):\n",
    "    total = 0\n",
    "    for num in range (2 ,n+1 , 2):\n",
    "        total+=num\n",
    "    return total\n",
    "\n",
    "sum_even(10)\n"
   ]
  },
  {
   "cell_type": "markdown",
   "id": "0f69e7f2",
   "metadata": {},
   "source": [
    "## Bài 3:\n",
    "Viết hàm easy_math() nhận vào 3 tham số `num1`, `op`, `num 2` để thực hiện phép tính tương ứng và in ra kết quả. \n",
    "Ví dụ:\n",
    "```\n",
    "easy_math(5, '+', 5)\n",
    "\n",
    "Output:\n",
    "10\n",
    "```\n"
   ]
  },
  {
   "cell_type": "code",
   "execution_count": 13,
   "id": "ce6058ca",
   "metadata": {},
   "outputs": [
    {
     "ename": "SyntaxError",
     "evalue": "invalid syntax (2180269359.py, line 2)",
     "output_type": "error",
     "traceback": [
      "\u001b[1;36m  Cell \u001b[1;32mIn[13], line 2\u001b[1;36m\u001b[0m\n\u001b[1;33m    for op in range(+ ,- ,* ,/ )\u001b[0m\n\u001b[1;37m                      ^\u001b[0m\n\u001b[1;31mSyntaxError\u001b[0m\u001b[1;31m:\u001b[0m invalid syntax\n"
     ]
    }
   ],
   "source": [
    "def easy_math(...parameter here...):\n",
    "    # code below this line\n",
    "    pass\n",
    "    # code above this line\n",
    "\n",
    "easy_math(5, '+', 5)"
   ]
  },
  {
   "cell_type": "markdown",
   "id": "3239a01d",
   "metadata": {},
   "source": [
    "## Bài 4:\n",
    "Viết hàm check_even() nhận vào tham số `number` và kiểm tra xem `number` có phải là số chẵn hay không.\n",
    "Ví dụ:\n",
    "```\n",
    "check_even(5)\n",
    "\n",
    "Output:\n",
    "5 là số lẻ\n",
    "```"
   ]
  },
  {
   "cell_type": "code",
   "execution_count": 75,
   "id": "f6a0918a",
   "metadata": {},
   "outputs": [
    {
     "name": "stdout",
     "output_type": "stream",
     "text": [
      "1 is a odd_number\n"
     ]
    }
   ],
   "source": [
    "def check_even(num):\n",
    "    even_num = True\n",
    "\n",
    "    for i in range(1 , num+1):\n",
    "        if i % 2 != 0:\n",
    "            even_num = False\n",
    "        break\n",
    "    if even_num == True:\n",
    "        print(f\"{num} is a even_number\")\n",
    "    else:\n",
    "        print(f\"{num} is a odd_number\")\n",
    "check_even(1)"
   ]
  },
  {
   "cell_type": "markdown",
   "id": "27a4bd3b",
   "metadata": {},
   "source": [
    "## Bài 5:\n",
    "Viết hàm transform_str() nhận vào tham số `string` và in ra `string` ở dạng uppercase và lowercase. Ví dụ:\n",
    "```\n",
    "transform_str('Function Is Magic!')\n",
    "\n",
    "Output:\n",
    "Lowercase: function is magic!\n",
    "Uppercase: FUNCTION IS MAGIC!\n",
    "```"
   ]
  },
  {
   "cell_type": "code",
   "execution_count": 72,
   "id": "ae2891a8",
   "metadata": {
    "scrolled": true
   },
   "outputs": [
    {
     "name": "stdout",
     "output_type": "stream",
     "text": [
      "Uppercase: FUNCTION IS MAGIC!\n",
      "Lowercase: function is magic!\n"
     ]
    }
   ],
   "source": [
    "def transform_str(string):\n",
    "    uppercase = string.upper()\n",
    "    lowercase = string.lower()\n",
    "    print(f\"Uppercase: {uppercase}\")\n",
    "    print(f\"Lowercase: {lowercase}\")\n",
    "transform_str('Function Is Magic!')"
   ]
  },
  {
   "cell_type": "markdown",
   "id": "163331db",
   "metadata": {},
   "source": [
    "## Bài 6:\n",
    "Viết hàm calculate_factorial() nhận vào tham số `number` và in ra giai thừa của tham số đó. Ví dụ:\n",
    "```\n",
    "calculate_factorial(5)\n",
    "\n",
    "Output: 120\n",
    "```"
   ]
  },
  {
   "cell_type": "code",
   "execution_count": 3,
   "id": "0047ec9d",
   "metadata": {},
   "outputs": [
    {
     "name": "stdin",
     "output_type": "stream",
     "text": [
      "Nhập số nguyên dương n =  4\n"
     ]
    },
    {
     "name": "stdout",
     "output_type": "stream",
     "text": [
      "Giai thừa của 4 là 24\n"
     ]
    },
    {
     "data": {
      "text/plain": [
       "120"
      ]
     },
     "execution_count": 3,
     "metadata": {},
     "output_type": "execute_result"
    }
   ],
   "source": [
    "def calculate_factorial(n):\n",
    "    giai_thua = 1;\n",
    "    if (n == 0 or n == 1):\n",
    "        return giai_thua;\n",
    "    else:\n",
    "        for i in range(2, n + 1):\n",
    "            giai_thua = giai_thua * i;\n",
    "        return giai_thua;\n",
    " \n",
    "n = int(input(\"Nhập số nguyên dương n = \"));\n",
    "print(\"Giai thừa của\", n, \"là\", calculate_factorial(n));\n",
    "\n",
    "calculate_factorial(5)"
   ]
  },
  {
   "cell_type": "markdown",
   "id": "6d381154",
   "metadata": {},
   "source": [
    "## Bài 7:\n",
    "Dãy Fibonacci là dãy vô hạn các số tự nhiên bắt đầu bằng 1 và 1, sau đó các số tiếp theo sẽ bằng tổng của 2 số liền trước nó. \n",
    "\n",
    "Cụ thể, các số đầu tiên của dãy Fibonacci là 1, 1, 2, 3, 5, 8, 13, 21, 34, 55, 89, 144, 233, 377, 610... \n",
    "\n",
    "Nhiệm vụ: Viết chương trình find_fibo() nhận vào tham số `index` và in ra số Fibonacci ở vị trí `index`. Nếu `index` bằng 0 thì in ra 0. Ví dụ:\n",
    "\n",
    "```\n",
    "find_fibo(1)\n",
    "\n",
    "Output:\n",
    "1\n",
    "```\n",
    "-------------------\n",
    "```\n",
    "find_fibo(6)\n",
    "\n",
    "Output:\n",
    "8\n",
    "```\n",
    "-------------------\n",
    "```\n",
    "find_fibo(0)\n",
    "\n",
    "Output:\n",
    "0\n",
    "```"
   ]
  },
  {
   "cell_type": "code",
   "execution_count": null,
   "id": "0b8b2dc3",
   "metadata": {},
   "outputs": [],
   "source": [
    "def find_fibo(...parameter here...):\n",
    "    # code below this line\n",
    "    pass\n",
    "    # code above this line\n",
    "\n",
    "find_fibo(0)"
   ]
  },
  {
   "cell_type": "markdown",
   "id": "65db4551",
   "metadata": {},
   "source": [
    "## Bài 8:\n",
    "Viết hàm find_divisors() nhận vào một số nguyên dương `number` và in ra tất cả các ước của `number`. Ví dụ:\n",
    "```\n",
    "find_divisors(24)\n",
    "\n",
    "Output:\n",
    "Ước của 24 là: 1, 2, 3, 4, 6, 8, 12, 24\n",
    "```"
   ]
  },
  {
   "cell_type": "code",
   "execution_count": 6,
   "id": "d9b20c10",
   "metadata": {},
   "outputs": [
    {
     "name": "stdout",
     "output_type": "stream",
     "text": [
      "1 2 3 4 6 8 12 24 "
     ]
    }
   ],
   "source": [
    "def find_divisors(n):\n",
    "    for i in range(1, n+1):\n",
    "        if n % i == 0:\n",
    "               print(i, end=' ')\n",
    "\n",
    "find_divisors(24)"
   ]
  },
  {
   "cell_type": "markdown",
   "id": "37000ab2",
   "metadata": {},
   "source": [
    "## Bài 9:\n",
    "Viết hàm solve_equation() để giải phương trình bậc nhất ax + b = 0 với `a` và `b` là 2 tham số đầu vào. Ví dụ:\n",
    "```\n",
    "solve_equation(2, -4)\n",
    "\n",
    "Output: \n",
    "x = 2\n",
    "```\n",
    "---\n",
    "```\n",
    "solve_equation(0, 0)\n",
    "\n",
    "Output: \n",
    "Phương trình vô số nghiệm\n",
    "```\n",
    "---\n",
    "```\n",
    "solve_equation(0, -4)\n",
    "\n",
    "Output: \n",
    "Phương trình vô nghiệm\n",
    "```"
   ]
  },
  {
   "cell_type": "code",
   "execution_count": 10,
   "id": "abfc5589",
   "metadata": {},
   "outputs": [
    {
     "name": "stdout",
     "output_type": "stream",
     "text": [
      " Phương trình vô số nghiệm\n"
     ]
    }
   ],
   "source": [
    "def solve_equation(a, b):\n",
    "    if a == 0:\n",
    "        if b == 0:\n",
    "            print(f\" Phương trình vô số nghiệm\")\n",
    "        else:\n",
    "            print(f\"phương trình vô nghiệm\")\n",
    "    else:\n",
    "        print(f\"phương trình có nghiệm khi x =\",-b/a)\n",
    "        \n",
    "solve_equation(0, 0)"
   ]
  },
  {
   "cell_type": "markdown",
   "id": "a483ed69",
   "metadata": {},
   "source": [
    "## Bài 10:\n",
    "Viết hàm find_distance() nhận vào 4 tham số `x1`, `y1`, `x2`, `y2` là tọa độ của 2 điểm trên trục tọa độ và in ra khoảng cách của 2 điểm đó theo công thức:\n",
    "```\n",
    "distance = sqrt((x1-x2)^2 + (y1-y2)^2)\n",
    "```\n",
    "Tham khảo: https://toanthaydinh.com/cong-thuc-tinh-khoang-cach-giua-2-diem/\n",
    "Khoảng cách được làm tròn 2 chữ số thập phân.\n",
    "\n",
    "Ví dụ:\n",
    "```\n",
    "find_distance(5, 2, 1, 3)\n",
    "\n",
    "Output:\n",
    "4.12\n",
    "```"
   ]
  },
  {
   "cell_type": "code",
   "execution_count": null,
   "id": "2dcf614e",
   "metadata": {},
   "outputs": [],
   "source": [
    "def find_distance(...parameter here...):\n",
    "    # code below this line\n",
    "    pass\n",
    "    # code above this line\n",
    "\n",
    "find_distance(5, 2, 1, 3)"
   ]
  },
  {
   "cell_type": "markdown",
   "id": "6236743e",
   "metadata": {},
   "source": [
    "## Bài 11(bonus):\n",
    "Viết hàm test_password() nhận vào một chuỗi(xem như là mật khẩu của người dùng).\n",
    "Sau đó kiểm tra xem đây có phải là mật khẩu mạnh hay không theo quy tắc sau:\n",
    "- Mật khẩu mạnh là mật khẩu phải có ít nhất 1 chữ hoa, 1 chữ thường, 1 số và 1 ký tự đặc biệt"
   ]
  },
  {
   "cell_type": "code",
   "execution_count": null,
   "id": "b24922e7",
   "metadata": {},
   "outputs": [],
   "source": [
    "def test_password(...parameter here...):\n",
    "    # code below this line\n",
    "    pass\n",
    "    # code above this line\n",
    "\n",
    "test_password(\"aW12R@_bc\")"
   ]
  }
 ],
 "metadata": {
  "kernelspec": {
   "display_name": "Python 3 (ipykernel)",
   "language": "python",
   "name": "python3"
  },
  "language_info": {
   "codemirror_mode": {
    "name": "ipython",
    "version": 3
   },
   "file_extension": ".py",
   "mimetype": "text/x-python",
   "name": "python",
   "nbconvert_exporter": "python",
   "pygments_lexer": "ipython3",
   "version": "3.11.4"
  }
 },
 "nbformat": 4,
 "nbformat_minor": 5
}
