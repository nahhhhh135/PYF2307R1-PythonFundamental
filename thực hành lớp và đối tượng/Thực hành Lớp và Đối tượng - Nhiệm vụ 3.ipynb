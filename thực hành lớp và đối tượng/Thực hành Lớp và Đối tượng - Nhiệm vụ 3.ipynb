{
 "cells": [
  {
   "cell_type": "code",
   "execution_count": null,
   "id": "a42fa0c7",
   "metadata": {},
   "outputs": [],
   "source": [
    "\"\"\"\n",
    "Tạo class có tên Equation gồm có các thuộc tính và phương thức sau:\n",
    "+ Thuộc tính: number1, number2\n",
    "+ Phương thức:\n",
    "- Phương thức tạo __init()__\n",
    "- print_info(): dùng để hiển thị number1, number2\n",
    "- addition(): dùng để cộng number1, number2\n",
    "- subtract(): trừ number1, number2\n",
    "- multi(): dùng để nhân number1, number2\n",
    "- division(): dùng để chia number1, number2.\n",
    "\n",
    "Sau khi tạo class, khởi tạo một object Equation và in ra kết quả tính toán từ các hàm thực hiện phép tính\n",
    "\"\"\""
   ]
  },
  {
   "cell_type": "code",
   "execution_count": 1,
   "id": "c0bbff97-b85d-4dab-afc4-2ffc793f8cde",
   "metadata": {},
   "outputs": [],
   "source": [
    "class sohoc():\n",
    "    def __init__(self):\n",
    "        self.number1 = 0\n",
    "        self.number2 = 0\n",
    "    \n",
    "    def input_info(self):\n",
    "        self.number1 = int(input(\"input number 1: \"))\n",
    "        self.number2 = int(input(\"input number 2: \"))\n",
    "    \n",
    "    def print_info(self):\n",
    "        print(f'number 1: {self.number1}')\n",
    "        print(f'number 2: {self.number2}')\n",
    "    \n",
    "    def addition(self):\n",
    "        total = self.number1 + self.number2\n",
    "        return total\n",
    "    \n",
    "    def subtract(self):\n",
    "        sub = self.number1 - self.number2\n",
    "        return sub\n",
    "    \n",
    "    def multi(self):\n",
    "        multi = self.number1 * self.number2\n",
    "        return multi\n",
    "    \n",
    "    def division(self):\n",
    "        division = self.number1 / self.number2\n",
    "        return division"
   ]
  },
  {
   "cell_type": "code",
   "execution_count": 2,
   "id": "484efa76-6a56-4116-91c3-f5298856da04",
   "metadata": {},
   "outputs": [
    {
     "name": "stdin",
     "output_type": "stream",
     "text": [
      "input number 1:  122\n",
      "input number 2:  2\n"
     ]
    },
    {
     "name": "stdout",
     "output_type": "stream",
     "text": [
      "number 1: 122\n",
      "number 2: 2\n",
      "124\n",
      "120\n",
      "244\n",
      "61.0\n"
     ]
    }
   ],
   "source": [
    "so1 = sohoc()\n",
    "so1.input_info()\n",
    "so1.print_info()\n",
    "print(so1.addition())\n",
    "print(so1.subtract())\n",
    "print(so1.multi())\n",
    "print(so1.division())"
   ]
  }
 ],
 "metadata": {
  "kernelspec": {
   "display_name": "Python 3 (ipykernel)",
   "language": "python",
   "name": "python3"
  },
  "language_info": {
   "codemirror_mode": {
    "name": "ipython",
    "version": 3
   },
   "file_extension": ".py",
   "mimetype": "text/x-python",
   "name": "python",
   "nbconvert_exporter": "python",
   "pygments_lexer": "ipython3",
   "version": "3.11.4"
  }
 },
 "nbformat": 4,
 "nbformat_minor": 5
}
