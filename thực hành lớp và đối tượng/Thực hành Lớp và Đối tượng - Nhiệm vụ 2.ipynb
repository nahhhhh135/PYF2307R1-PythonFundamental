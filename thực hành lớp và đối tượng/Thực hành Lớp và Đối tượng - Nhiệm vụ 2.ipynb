{
 "cells": [
  {
   "cell_type": "code",
   "execution_count": null,
   "id": "1b7705b3",
   "metadata": {},
   "outputs": [],
   "source": [
    "\"\"\"\n",
    "Viết class NhanVien gồm các thuộc tính:\n",
    "+ Tên\n",
    "+ Tuổi\n",
    "+ Địa chỉ\n",
    "+ Tiền lương\n",
    "+ Tổng số giờ làm\n",
    "\n",
    "Và các phương thức:\n",
    "- Phương thức __init__()\n",
    "- print_info() : In ra tất cả các thông tin của nhân viên\n",
    "- tinh_thuong(): Tính toán và trả về số tiền thưởng của nhân viên theo công thức sau:\n",
    "Nếu tổng số giờ làm của nhân viên >=200 thì thưởng = lương * 20%\n",
    "Nếu tổng số giờ làm của nhân viên <200 và >=100 thì thưởng = lương * 10%\n",
    "Nếu tổng số giờ làm của nhân viên <100 thì thưởng = 0\n",
    "\"\"\""
   ]
  },
  {
   "cell_type": "code",
   "execution_count": 2,
   "id": "3cf0f41d",
   "metadata": {},
   "outputs": [],
   "source": [
    "class nhanvien:\n",
    "    def __init__(self):\n",
    "        self.name = \"\"\n",
    "        self.age = 0\n",
    "        self.address = \"\"\n",
    "        self.salary = 0\n",
    "        self.working_hour = 0\n",
    "        \n",
    "    def input_info(self):\n",
    "        self.name = input('input name: ')\n",
    "        self.age = int(input('input age: '))\n",
    "        self.address = input('input address: ')\n",
    "        self.salary = float(input('input salary: '))\n",
    "        self.working_hour = float(input('input working_hour: '))\n",
    "    \n",
    "    def print_info(self):\n",
    "        print(f'Name: {self.name}')\n",
    "        print(f'Age: {self.age}')\n",
    "        print(f'address: {self.address}')\n",
    "        print(f'salary: {self.salary}')\n",
    "        print(f'working_hour: {self.working_hour}')\n",
    "    \n",
    "    def tinh_thuong(self):\n",
    "        if self.working_hour >= 200:\n",
    "            thuong = self.salary * 0.2\n",
    "        elif self.working_hour >=100:\n",
    "            thuong = self.salary * 0.1\n",
    "        else:\n",
    "            thuong = 0\n",
    "        \n",
    "        return thuong"
   ]
  },
  {
   "cell_type": "code",
   "execution_count": 4,
   "id": "3109d745-7774-498f-9fe6-95028698ba14",
   "metadata": {
    "scrolled": true
   },
   "outputs": [
    {
     "name": "stdin",
     "output_type": "stream",
     "text": [
      "input name:  thái\n",
      "input age:  17\n",
      "input address:  30/133 đường nguyễn khắc hiếu\n",
      "input salary:  10000000000\n",
      "input working_hour:  1\n"
     ]
    },
    {
     "name": "stdout",
     "output_type": "stream",
     "text": [
      "Name: thái\n",
      "Age: 17\n",
      "address: 30/133 đường nguyễn khắc hiếu\n",
      "salary: 10000000000.0\n",
      "working_hour: 1.0\n",
      "bonus: 0\n"
     ]
    }
   ],
   "source": [
    "a = nhanvien()\n",
    "a.input_info()\n",
    "a.print_info()\n",
    "print(f'bonus: {a.tinh_thuong()}')"
   ]
  }
 ],
 "metadata": {
  "kernelspec": {
   "display_name": "Python 3 (ipykernel)",
   "language": "python",
   "name": "python3"
  },
  "language_info": {
   "codemirror_mode": {
    "name": "ipython",
    "version": 3
   },
   "file_extension": ".py",
   "mimetype": "text/x-python",
   "name": "python",
   "nbconvert_exporter": "python",
   "pygments_lexer": "ipython3",
   "version": "3.11.4"
  }
 },
 "nbformat": 4,
 "nbformat_minor": 5
}
