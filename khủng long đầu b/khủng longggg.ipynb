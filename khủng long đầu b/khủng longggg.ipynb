{
 "cells": [
  {
   "cell_type": "code",
   "execution_count": 13,
   "id": "dde904f5-3f29-44ee-87ac-60c18a12c0cb",
   "metadata": {},
   "outputs": [
    {
     "ename": "AttributeError",
     "evalue": "module 'PIL.ImageTk' has no attribute 'photoImage'",
     "output_type": "error",
     "traceback": [
      "\u001b[1;31m---------------------------------------------------------------------------\u001b[0m",
      "\u001b[1;31mAttributeError\u001b[0m                            Traceback (most recent call last)",
      "Cell \u001b[1;32mIn[13], line 9\u001b[0m\n\u001b[0;32m      7\u001b[0m canvas \u001b[38;5;241m=\u001b[39m Canvas(master \u001b[38;5;241m=\u001b[39m game,width\u001b[38;5;241m=\u001b[39m\u001b[38;5;241m600\u001b[39m,height\u001b[38;5;241m=\u001b[39m\u001b[38;5;241m300\u001b[39m,background\u001b[38;5;241m=\u001b[39m\u001b[38;5;124m\"\u001b[39m\u001b[38;5;124mwhite\u001b[39m\u001b[38;5;124m\"\u001b[39m)\n\u001b[0;32m      8\u001b[0m canvas\u001b[38;5;241m.\u001b[39mpack()\n\u001b[1;32m----> 9\u001b[0m img[\u001b[38;5;241m0\u001b[39m]\u001b[38;5;241m=\u001b[39m \u001b[43mImageTk\u001b[49m\u001b[38;5;241;43m.\u001b[39;49m\u001b[43mphotoImage\u001b[49m(Image\u001b[38;5;241m.\u001b[39mopen(\u001b[38;5;124m\"\u001b[39m\u001b[38;5;124mphotos/dragon.jpg\u001b[39m\u001b[38;5;124m\"\u001b[39m))\n\u001b[0;32m     10\u001b[0m img[\u001b[38;5;241m1\u001b[39m]\u001b[38;5;241m=\u001b[39m ImageTk\u001b[38;5;241m.\u001b[39mphotoImage(Image\u001b[38;5;241m.\u001b[39mopen(\u001b[38;5;124m\"\u001b[39m\u001b[38;5;124mphotos/cloud.jpg\u001b[39m\u001b[38;5;124m\"\u001b[39m))\n\u001b[0;32m     11\u001b[0m img[\u001b[38;5;241m2\u001b[39m]\u001b[38;5;241m=\u001b[39m ImageTk\u001b[38;5;241m.\u001b[39mphotoImage(Image\u001b[38;5;241m.\u001b[39mopen(\u001b[38;5;124m\"\u001b[39m\u001b[38;5;124mphotos/tree.jpg\u001b[39m\u001b[38;5;124m\"\u001b[39m))\n",
      "\u001b[1;31mAttributeError\u001b[0m: module 'PIL.ImageTk' has no attribute 'photoImage'"
     ]
    }
   ],
   "source": [
    "from tkinter import *       # đưa các thư viện vào\n",
    "from PIL import ImageTk,Image\n",
    "from time import sleep\n",
    "from playsound import playsound\n",
    "img = [0,0,0]    #list chứa ảnh\n",
    "game = Tk() #tạo cửa sổ game\n",
    "game.title(\"dragon\")   # tiêu đề\n",
    "canvas = Canvas(master = game,width=600,height=300,background=\"white\")   # tạo màn hình chs game\n",
    "canvas.pack()\n",
    "img[0]= ImageTk.photoImage(Image.open(\"photos/dragon.jpg\"))     #gán ảnh\n",
    "img[1]= ImageTk.photoImage(Image.open(\"photos/cloud.jpg\"))\n",
    "img[2]= ImageTk.photoImage(Image.open(\"photos/tree.jpg\"))\n",
    "\n",
    "dragon=canvas.create_image(0,250,anchor=NW,image=img[0]) # tạo các ảnh\n",
    "cloud=canvas.create_image(0,250,anchor=NW,image=img[1])\n",
    "tree=canvas.create_image(0,250,anchor=NW,image=img[2])\n",
    "canvas.update()\n",
    "def moveCloud():    # di chuyển đám mây\n",
    "    global cloud\n",
    "    canvas.move(cloud,-6,0)\n",
    "    if canvas.coords(cloud)[0]<-20:\n",
    "        canvas.delete(cloud)\n",
    "        cloud=canvas.create_image(550,50,anchor=NW,image=img[1])\n",
    "    canvas.update()\n",
    "score=0      # điểm số\n",
    "\n",
    "text_score=canvas.create_text(550,30,text=\"SCORE:\"+str(score),fill=\"red\",font=(\"Times\",10))   # ghi điểm trên màn hình\n",
    "\n",
    "def moveTree():   # di chuyển cây\n",
    "    global tree,score\n",
    "    canvas.move(tree,-3,0)\n",
    "    if canvas.coords(tree)[0]<-20:\n",
    "        canvas.delete(tree)\n",
    "        tree=canvas.create_image(0,250,anchor=NW,image=img[2])\n",
    "        score=score+1\n",
    "        canvas.itemconfig(text_score,text=\"SCORE:\"+str(score))\n",
    "    canvas.update()\n",
    "check_jump=False\n",
    "def jump():   # nhảy\n",
    "    global check_jump\n",
    "    if check_jump== False:\n",
    "        playsound(\"trick.wav\",block=False)\n",
    "        for i in range (0,30):    # nhảy lên\n",
    "            canvas.move(dragon,0,-5)\n",
    "            canvas.update()\n",
    "            sleep(0.01)\n",
    "        for i in range (0,30):    # nhảy xuống\n",
    "            canvas.move(dragon,0,5)\n",
    "            canvas.update()\n",
    "            sleep(0.01)\n",
    "        check_jump=False\n",
    "def keyPress(event):  # phím nhảy\n",
    "    if event.keysym==\"space\":\n",
    "        jump()\n",
    "canvas.bind_all(\"<KeyPress>\",keyPress)\n",
    "gameover=False\n",
    "def check_gameOver():   # hàm check kiểm tra cái cây với con khủng long có chạm nhau hay không\n",
    "    global gameover\n",
    "    if canvas.coords(tree)[0]<50 and canvas.coords(dragon)[1]>220:\n",
    "        gameover=True\n",
    "        text_gameover=canvas.create_text(250,150,text=\"GAMEOVER\",fill=\"black\",font=(\"Times\",30))\n",
    "        playsound(\"te.wav\",block=False)\n",
    "    game.after(100,check_gameOver)\n",
    "check_gameOver()\n",
    "while not gameover:\n",
    "    moveCloud()\n",
    "    moveTree()\n",
    "    sleep(0.01)\n",
    "game.mainloop()"
   ]
  }
 ],
 "metadata": {
  "kernelspec": {
   "display_name": "Python 3 (ipykernel)",
   "language": "python",
   "name": "python3"
  },
  "language_info": {
   "codemirror_mode": {
    "name": "ipython",
    "version": 3
   },
   "file_extension": ".py",
   "mimetype": "text/x-python",
   "name": "python",
   "nbconvert_exporter": "python",
   "pygments_lexer": "ipython3",
   "version": "3.11.4"
  }
 },
 "nbformat": 4,
 "nbformat_minor": 5
}
